{
 "cells": [
  {
   "cell_type": "code",
   "execution_count": 3,
   "metadata": {},
   "outputs": [
    {
     "data": {
      "text/plain": [
       "'\\nAUTHOR: Andrea Marín Domingo\\nDATE: 12/07/2022\\nOBJECTIVE: Creation of an ethical individual Algorithm where it returns the best of the individuals of a population, \\ngeneration after generation.\\n'"
      ]
     },
     "execution_count": 3,
     "metadata": {},
     "output_type": "execute_result"
    }
   ],
   "source": [
    "'''\n",
    "AUTHOR: Andrea Marín Domingo\n",
    "DATE: 12/07/2022\n",
    "OBJECTIVE: Creation of an ethical individual Algorithm where it returns the best of the individuals of a population, \n",
    "generation after generation.\n",
    "'''\n",
    "\n"
   ]
  },
  {
   "cell_type": "markdown",
   "metadata": {},
   "source": [
    "### **LIBRARY**"
   ]
  },
  {
   "cell_type": "code",
   "execution_count": 4,
   "metadata": {},
   "outputs": [],
   "source": [
    "#BOOKSTORES USED\n",
    "import random\n",
    "import numpy as np\n",
    "import random as rd\n",
    "import matplotlib\n",
    "import matplotlib.pyplot as plt\n",
    "import matplotlib as mpl\n"
   ]
  },
  {
   "cell_type": "markdown",
   "metadata": {},
   "source": [
    "### **FIRST GENERATION**"
   ]
  },
  {
   "cell_type": "code",
   "execution_count": 5,
   "metadata": {},
   "outputs": [],
   "source": [
    "\n",
    "# VARIABLES\n",
    "number_of_genes = 15 # Give an incoming number of genes\n",
    "population_size = 100  # Give an incoming size of poblation\n",
    "individual = np.arange(number_of_genes)  # cromosoma\n",
    "generations = 150  # Give an incoming number of generations\n",
    "\n",
    "# GEN LIST \n",
    "lat_lon_individual=[]\n",
    "\n",
    "for _ in individual:\n",
    "    aux=(rd.randint(0,500), rd.randint(0,500)) # indicates lat and long positions\n",
    "    lat_lon_individual.append(aux) # we add values (aux) to the list\n",
    "\n",
    "\n",
    "# FITNESS FUNCTION\n",
    "def fitness(lista):\n",
    "    distance = 0\n",
    "    c1 = lista[0]\n",
    "    for c2 in lista[1:]:\n",
    "        distance += np.sqrt(((lat_lon_individual[c1][0]-lat_lon_individual[c2][0])**2) + ((lat_lon_individual[c1][1]-lat_lon_individual[c2][1])**2))\n",
    "        c1 = c2\n",
    "    return round(distance, 2)\n",
    "\n",
    "# GENERATION OF INDIVIDUALS - CROSSOVER AND MUTATION\n",
    "def generate_individual():\n",
    "    return list(np.random.permutation(len(individual)))\n",
    "\n",
    "\n",
    " # Crossover\n",
    "def crossover(ind1, ind2):\n",
    "    crossover_point = np.random.randint(1, len(individual))\n",
    "\n",
    "    ind1_left = ind1[:crossover_point]\n",
    "    ind1_right = ind1[crossover_point:]\n",
    " \n",
    "    ind2_left = ind2[0:crossover_point]\n",
    "    ind2_right = ind2[crossover_point:]\n",
    "\n",
    "    pool_1 = set(ind1)-(set(ind1_left)|set(ind2_right)) # (|)  creates a unified set of the two sets\n",
    "    \n",
    "    pool_2 = set(ind2)-(set(ind2_left)|set(ind1_right))\n",
    "\n",
    "    offspring1 = ind1_left \n",
    "    for e in ind2_right:\n",
    "        if e not in ind1_left:\n",
    "            offspring1.append(e)\n",
    "        else:\n",
    "            offspring1.append(pool_1.pop())\n",
    "    \n",
    "    offspring2 = ind2_left\n",
    "    for e in ind1_right:\n",
    "        if e not in ind2_left:\n",
    "            offspring2.append(e)\n",
    "        else:\n",
    "            offspring2.append(pool_2.pop())\n",
    "    \n",
    "    return offspring1, offspring2 \n",
    "\n",
    "\n",
    "# Mutation\n",
    "def mutate(ind):\n",
    "    mutate_rate = np.random.rand()\n",
    "    if mutate_rate <= 0.05:\n",
    "        index1 = np.random.randint(len(ind))\n",
    "        index2 = np.random.randint(len(ind))\n",
    "\n",
    "        aux = ind[index1] \n",
    "        ind[index1] = ind[index2]\n",
    "        ind[index2] = aux\n",
    "    return ind\n"
   ]
  },
  {
   "cell_type": "markdown",
   "metadata": {},
   "source": [
    "### *TESTS*"
   ]
  },
  {
   "cell_type": "code",
   "execution_count": 6,
   "metadata": {},
   "outputs": [
    {
     "name": "stdout",
     "output_type": "stream",
     "text": [
      "[11, 8, 7, 14, 13, 6, 2, 12, 5, 4, 1, 10, 0, 3, 9]\n",
      "[13, 2, 9, 3, 8, 14, 7, 12, 6, 10, 1, 0, 5, 4, 11]\n",
      "([11, 8, 7, 14, 13, 6, 2, 12, 5, 10, 1, 0, 9, 4, 3], [13, 2, 9, 3, 8, 14, 7, 12, 6, 4, 1, 10, 0, 11, 5])\n",
      "[11, 8, 7, 14, 13, 6, 2, 12, 5, 4, 1, 10, 0, 3, 9]\n"
     ]
    }
   ],
   "source": [
    "ind1 = generate_individual()\n",
    "ind2 = generate_individual()\n",
    "\n",
    "print(ind1)\n",
    "print(ind2)\n",
    "\n",
    "print(crossover(ind1, ind2))\n",
    "\n",
    "print(mutate(ind1))\n"
   ]
  },
  {
   "cell_type": "markdown",
   "metadata": {},
   "source": [
    "### **NEXT GENERATION**"
   ]
  },
  {
   "cell_type": "code",
   "execution_count": 7,
   "metadata": {},
   "outputs": [],
   "source": [
    "# CREAR UNA POBLACION\n",
    "def populate(n):\n",
    "    individuals = []\n",
    "    for _ in range(n):\n",
    "        individuals.append(generate_individual())\n",
    "    return individuals\n",
    "\n",
    "population = populate(population_size)\n",
    "\n",
    "def fitness_population(population):\n",
    "    fitness_values = []\n",
    "    for individual in population:\n",
    "        fitness_values.append(fitness(individual))\n",
    "    return fitness_values"
   ]
  },
  {
   "cell_type": "code",
   "execution_count": 8,
   "metadata": {},
   "outputs": [
    {
     "name": "stdout",
     "output_type": "stream",
     "text": [
      "Best : [2, 6, 1, 9, 8, 10, 5, 4, 0, 12, 13, 7, 14, 3, 11]  with fitness: 2505.44\n",
      "Best : [12, 2, 1, 9, 8, 10, 5, 4, 0, 11, 13, 7, 14, 3, 6]  with fitness: 2225.53\n",
      "Best : [11, 2, 1, 9, 8, 10, 5, 4, 0, 12, 13, 7, 14, 3, 6]  with fitness: 2024.72\n",
      "Best : [11, 2, 1, 9, 8, 10, 5, 4, 0, 12, 13, 6, 3, 14, 7]  with fitness: 1959.4\n",
      "Best : [8, 9, 1, 3, 6, 10, 2, 11, 4, 5, 0, 12, 13, 14, 7]  with fitness: 1764.58\n",
      "Best : [8, 9, 1, 2, 11, 10, 5, 4, 0, 12, 13, 6, 3, 14, 7]  with fitness: 1719.36\n",
      "Best : [8, 9, 1, 2, 11, 10, 5, 4, 0, 12, 13, 6, 3, 14, 7]  with fitness: 1719.36\n",
      "Best : [8, 9, 1, 2, 11, 10, 5, 4, 0, 12, 13, 6, 3, 14, 7]  with fitness: 1719.36\n",
      "Best : [8, 9, 1, 2, 11, 10, 13, 4, 0, 12, 5, 6, 3, 14, 7]  with fitness: 1511.24\n",
      "Best : [8, 9, 1, 2, 11, 10, 13, 4, 0, 12, 5, 6, 3, 14, 7]  with fitness: 1511.24\n",
      "Best : [8, 9, 1, 2, 11, 10, 13, 4, 0, 5, 12, 6, 3, 14, 7]  with fitness: 1504.81\n",
      "Best : [8, 1, 9, 2, 11, 10, 13, 4, 0, 12, 5, 6, 3, 14, 7]  with fitness: 1495.92\n",
      "Best : [8, 1, 9, 2, 11, 10, 13, 4, 0, 5, 12, 6, 3, 14, 7]  with fitness: 1489.48\n",
      "Best : [8, 1, 9, 2, 11, 10, 13, 4, 0, 5, 12, 6, 3, 14, 7]  with fitness: 1489.48\n",
      "Best : [8, 1, 9, 2, 11, 10, 13, 4, 0, 5, 12, 6, 3, 14, 7]  with fitness: 1489.48\n",
      "Best : [8, 1, 9, 2, 11, 10, 13, 4, 0, 5, 12, 6, 3, 14, 7]  with fitness: 1489.48\n",
      "Best : [8, 1, 9, 2, 11, 10, 13, 4, 0, 5, 12, 6, 3, 14, 7]  with fitness: 1489.48\n",
      "Best : [8, 1, 9, 2, 11, 10, 13, 4, 0, 5, 12, 6, 3, 14, 7]  with fitness: 1489.48\n",
      "Best : [8, 1, 9, 2, 11, 10, 13, 4, 0, 5, 12, 6, 3, 14, 7]  with fitness: 1489.48\n",
      "Best : [8, 1, 9, 2, 11, 10, 13, 4, 0, 5, 12, 6, 3, 14, 7]  with fitness: 1489.48\n",
      "Best : [8, 1, 9, 2, 11, 10, 13, 0, 4, 5, 12, 6, 3, 14, 7]  with fitness: 1459.98\n",
      "Best : [8, 1, 9, 2, 11, 10, 13, 0, 4, 5, 12, 6, 3, 14, 7]  with fitness: 1459.98\n",
      "Best : [8, 1, 9, 2, 11, 10, 13, 0, 4, 5, 12, 6, 3, 14, 7]  with fitness: 1459.98\n",
      "Best : [8, 1, 9, 2, 11, 10, 13, 0, 4, 5, 12, 6, 3, 14, 7]  with fitness: 1459.98\n",
      "Best : [8, 1, 9, 2, 11, 10, 13, 0, 4, 5, 12, 6, 3, 14, 7]  with fitness: 1459.98\n",
      "Best : [8, 1, 9, 2, 11, 10, 13, 0, 4, 5, 12, 6, 3, 14, 7]  with fitness: 1459.98\n",
      "Best : [8, 1, 9, 2, 11, 10, 13, 0, 4, 5, 12, 6, 3, 14, 7]  with fitness: 1459.98\n",
      "Best : [8, 1, 9, 2, 11, 10, 13, 0, 4, 5, 12, 6, 3, 14, 7]  with fitness: 1459.98\n",
      "Best : [8, 1, 9, 2, 11, 10, 13, 0, 4, 5, 12, 6, 3, 14, 7]  with fitness: 1459.98\n",
      "Best : [8, 1, 9, 2, 11, 10, 13, 0, 4, 5, 12, 6, 3, 14, 7]  with fitness: 1459.98\n",
      "Best : [8, 1, 9, 13, 11, 10, 2, 0, 4, 5, 12, 6, 3, 14, 7]  with fitness: 1348.26\n",
      "Best : [8, 1, 9, 13, 11, 10, 2, 0, 4, 5, 12, 6, 3, 14, 7]  with fitness: 1348.26\n",
      "Best : [8, 1, 9, 13, 11, 10, 2, 0, 4, 5, 12, 6, 3, 14, 7]  with fitness: 1348.26\n",
      "Best : [8, 1, 9, 13, 11, 10, 2, 0, 4, 5, 12, 6, 3, 14, 7]  with fitness: 1348.26\n",
      "Best : [8, 1, 9, 13, 11, 10, 2, 0, 4, 5, 12, 6, 3, 14, 7]  with fitness: 1348.26\n",
      "Best : [8, 1, 9, 13, 11, 10, 2, 0, 4, 5, 12, 6, 3, 14, 7]  with fitness: 1348.26\n",
      "Best : [8, 1, 9, 13, 11, 10, 2, 0, 4, 5, 12, 6, 3, 14, 7]  with fitness: 1348.26\n",
      "Best : [8, 1, 9, 13, 11, 10, 2, 0, 4, 5, 12, 6, 3, 14, 7]  with fitness: 1348.26\n",
      "Best : [8, 1, 9, 13, 11, 10, 2, 0, 4, 5, 12, 6, 3, 14, 7]  with fitness: 1348.26\n",
      "Best : [8, 1, 9, 13, 11, 10, 2, 0, 4, 5, 12, 6, 3, 14, 7]  with fitness: 1348.26\n",
      "Best : [8, 1, 9, 13, 11, 10, 2, 0, 4, 5, 12, 6, 3, 14, 7]  with fitness: 1348.26\n",
      "Best : [8, 1, 9, 13, 11, 10, 2, 0, 4, 5, 12, 6, 3, 14, 7]  with fitness: 1348.26\n",
      "Best : [8, 1, 9, 13, 11, 10, 2, 0, 4, 5, 12, 6, 3, 14, 7]  with fitness: 1348.26\n",
      "Best : [8, 1, 9, 13, 11, 2, 10, 0, 4, 5, 12, 6, 3, 14, 7]  with fitness: 1332.45\n",
      "Best : [8, 1, 9, 13, 11, 2, 10, 0, 4, 5, 12, 6, 3, 14, 7]  with fitness: 1332.45\n",
      "Best : [8, 1, 9, 13, 11, 2, 10, 0, 4, 5, 12, 6, 3, 14, 7]  with fitness: 1332.45\n",
      "Best : [8, 1, 9, 13, 11, 2, 10, 0, 4, 5, 12, 6, 3, 14, 7]  with fitness: 1332.45\n",
      "Best : [8, 1, 9, 13, 11, 2, 10, 0, 4, 5, 12, 6, 3, 14, 7]  with fitness: 1332.45\n",
      "Best : [8, 1, 9, 13, 11, 2, 10, 0, 4, 5, 12, 6, 3, 14, 7]  with fitness: 1332.45\n",
      "Best : [8, 1, 9, 13, 11, 2, 10, 0, 4, 5, 12, 6, 3, 14, 7]  with fitness: 1332.45\n",
      "Best : [8, 1, 9, 13, 11, 2, 10, 0, 4, 5, 12, 6, 3, 14, 7]  with fitness: 1332.45\n",
      "Best : [8, 1, 9, 13, 11, 2, 10, 0, 4, 5, 12, 6, 3, 14, 7]  with fitness: 1332.45\n",
      "Best : [8, 1, 9, 13, 11, 2, 10, 0, 4, 5, 12, 6, 3, 14, 7]  with fitness: 1332.45\n",
      "Best : [8, 1, 9, 13, 11, 2, 10, 0, 4, 5, 12, 6, 3, 14, 7]  with fitness: 1332.45\n",
      "Best : [8, 1, 9, 13, 11, 2, 10, 0, 4, 5, 12, 6, 3, 14, 7]  with fitness: 1332.45\n",
      "Best : [8, 1, 9, 13, 11, 2, 10, 0, 4, 5, 12, 6, 3, 14, 7]  with fitness: 1332.45\n",
      "Best : [8, 1, 9, 13, 11, 2, 10, 0, 4, 5, 12, 6, 3, 14, 7]  with fitness: 1332.45\n",
      "Best : [8, 1, 9, 13, 11, 2, 10, 0, 4, 5, 12, 6, 3, 14, 7]  with fitness: 1332.45\n",
      "Best : [8, 1, 9, 13, 11, 2, 10, 0, 4, 5, 12, 6, 3, 14, 7]  with fitness: 1332.45\n",
      "Best : [8, 1, 9, 13, 11, 2, 10, 0, 4, 5, 12, 6, 3, 14, 7]  with fitness: 1332.45\n",
      "Best : [9, 1, 8, 13, 11, 2, 10, 0, 4, 5, 12, 6, 3, 14, 7]  with fitness: 1281.27\n",
      "Best : [9, 1, 8, 13, 11, 2, 10, 0, 4, 5, 12, 6, 3, 14, 7]  with fitness: 1281.27\n",
      "Best : [9, 1, 8, 13, 11, 2, 10, 0, 4, 5, 12, 6, 3, 14, 7]  with fitness: 1281.27\n",
      "Best : [9, 1, 8, 13, 11, 2, 10, 0, 4, 5, 12, 6, 3, 14, 7]  with fitness: 1281.27\n",
      "Best : [9, 1, 8, 13, 11, 2, 10, 0, 4, 5, 12, 6, 3, 14, 7]  with fitness: 1281.27\n",
      "Best : [9, 1, 8, 13, 11, 2, 10, 0, 4, 5, 12, 6, 3, 14, 7]  with fitness: 1281.27\n",
      "Best : [9, 1, 8, 13, 11, 2, 10, 0, 4, 5, 12, 6, 3, 14, 7]  with fitness: 1281.27\n",
      "Best : [9, 1, 8, 13, 11, 2, 10, 4, 0, 5, 12, 6, 3, 14, 7]  with fitness: 1266.04\n",
      "Best : [9, 1, 8, 13, 11, 2, 10, 4, 0, 5, 12, 6, 3, 14, 7]  with fitness: 1266.04\n",
      "Best : [9, 1, 8, 13, 11, 2, 10, 4, 0, 5, 12, 6, 3, 14, 7]  with fitness: 1266.04\n",
      "Best : [9, 1, 8, 13, 11, 2, 10, 4, 0, 5, 12, 6, 3, 14, 7]  with fitness: 1266.04\n",
      "Best : [9, 1, 8, 13, 11, 2, 10, 4, 0, 5, 12, 6, 3, 14, 7]  with fitness: 1266.04\n",
      "Best : [9, 1, 8, 13, 11, 2, 10, 4, 0, 5, 12, 6, 3, 14, 7]  with fitness: 1266.04\n",
      "Best : [9, 1, 8, 13, 11, 2, 10, 4, 0, 5, 12, 6, 3, 14, 7]  with fitness: 1266.04\n",
      "Best : [9, 1, 8, 13, 11, 2, 10, 4, 0, 5, 12, 6, 3, 14, 7]  with fitness: 1266.04\n",
      "Best : [9, 1, 8, 13, 11, 2, 10, 4, 0, 5, 12, 6, 3, 14, 7]  with fitness: 1266.04\n",
      "Best : [9, 1, 8, 13, 11, 2, 10, 4, 0, 5, 12, 6, 3, 14, 7]  with fitness: 1266.04\n",
      "Best : [9, 1, 8, 13, 11, 2, 10, 4, 0, 5, 12, 6, 3, 14, 7]  with fitness: 1266.04\n",
      "Best : [9, 1, 8, 13, 11, 2, 10, 4, 0, 5, 12, 6, 3, 14, 7]  with fitness: 1266.04\n",
      "Best : [9, 1, 8, 13, 11, 2, 10, 4, 0, 5, 12, 6, 3, 14, 7]  with fitness: 1266.04\n",
      "Best : [9, 1, 8, 13, 11, 2, 10, 4, 0, 5, 12, 6, 3, 14, 7]  with fitness: 1266.04\n",
      "Best : [9, 1, 8, 13, 11, 2, 10, 4, 0, 5, 12, 6, 3, 14, 7]  with fitness: 1266.04\n",
      "Best : [9, 1, 8, 13, 11, 2, 10, 4, 0, 5, 12, 6, 3, 14, 7]  with fitness: 1266.04\n",
      "Best : [9, 1, 8, 13, 11, 2, 10, 4, 0, 5, 12, 6, 3, 14, 7]  with fitness: 1266.04\n",
      "Best : [9, 1, 8, 13, 11, 2, 10, 4, 0, 5, 12, 6, 3, 14, 7]  with fitness: 1266.04\n",
      "Best : [9, 1, 8, 13, 11, 2, 10, 4, 0, 5, 12, 6, 3, 14, 7]  with fitness: 1266.04\n",
      "Best : [9, 1, 8, 13, 11, 2, 10, 4, 0, 5, 12, 6, 3, 14, 7]  with fitness: 1266.04\n",
      "Best : [9, 1, 8, 13, 11, 2, 10, 4, 0, 5, 12, 6, 3, 14, 7]  with fitness: 1266.04\n",
      "Best : [9, 1, 8, 13, 11, 2, 10, 4, 0, 5, 12, 6, 3, 14, 7]  with fitness: 1266.04\n",
      "Best : [9, 1, 8, 13, 11, 2, 10, 4, 0, 5, 12, 6, 3, 14, 7]  with fitness: 1266.04\n",
      "Best : [9, 1, 8, 13, 11, 2, 10, 4, 0, 5, 12, 6, 3, 14, 7]  with fitness: 1266.04\n",
      "Best : [9, 1, 8, 13, 11, 2, 10, 4, 0, 5, 12, 6, 3, 14, 7]  with fitness: 1266.04\n",
      "Best : [9, 1, 8, 13, 11, 2, 10, 4, 0, 5, 12, 6, 3, 14, 7]  with fitness: 1266.04\n",
      "Best : [9, 1, 8, 13, 11, 2, 10, 4, 0, 5, 12, 6, 3, 14, 7]  with fitness: 1266.04\n",
      "Best : [9, 1, 8, 13, 11, 2, 10, 4, 0, 5, 12, 6, 3, 14, 7]  with fitness: 1266.04\n",
      "Best : [9, 1, 8, 13, 11, 2, 10, 4, 0, 5, 12, 6, 3, 14, 7]  with fitness: 1266.04\n",
      "Best : [9, 1, 8, 13, 11, 2, 10, 4, 0, 5, 12, 6, 3, 14, 7]  with fitness: 1266.04\n",
      "Best : [9, 1, 8, 13, 11, 2, 10, 4, 0, 5, 12, 6, 3, 14, 7]  with fitness: 1266.04\n",
      "Best : [9, 1, 8, 13, 11, 2, 10, 4, 0, 5, 12, 6, 3, 14, 7]  with fitness: 1266.04\n",
      "Best : [9, 1, 8, 13, 11, 2, 10, 4, 0, 5, 12, 6, 3, 14, 7]  with fitness: 1266.04\n",
      "Best : [9, 1, 8, 13, 11, 2, 10, 4, 0, 5, 12, 6, 3, 14, 7]  with fitness: 1266.04\n",
      "Best : [9, 1, 8, 13, 11, 2, 10, 4, 0, 5, 12, 6, 3, 14, 7]  with fitness: 1266.04\n",
      "Best : [9, 1, 8, 13, 11, 2, 10, 4, 0, 5, 12, 6, 3, 14, 7]  with fitness: 1266.04\n",
      "Best : [9, 1, 8, 13, 11, 2, 10, 4, 0, 5, 12, 6, 3, 14, 7]  with fitness: 1266.04\n",
      "Best : [9, 1, 8, 13, 11, 2, 10, 4, 0, 5, 12, 6, 3, 14, 7]  with fitness: 1266.04\n",
      "Best : [9, 1, 8, 13, 11, 2, 10, 4, 0, 5, 12, 6, 3, 14, 7]  with fitness: 1266.04\n",
      "Best : [9, 1, 8, 13, 11, 2, 10, 4, 0, 5, 12, 6, 3, 14, 7]  with fitness: 1266.04\n",
      "Best : [9, 1, 8, 13, 11, 2, 10, 4, 0, 5, 12, 6, 3, 14, 7]  with fitness: 1266.04\n",
      "Best : [9, 1, 8, 13, 11, 2, 10, 4, 0, 5, 12, 6, 3, 14, 7]  with fitness: 1266.04\n",
      "Best : [9, 1, 8, 13, 11, 2, 10, 4, 0, 5, 12, 6, 3, 14, 7]  with fitness: 1266.04\n",
      "Best : [9, 1, 8, 13, 11, 2, 10, 4, 0, 5, 12, 6, 3, 14, 7]  with fitness: 1266.04\n",
      "Best : [9, 1, 8, 13, 11, 2, 10, 4, 0, 5, 12, 6, 3, 14, 7]  with fitness: 1266.04\n",
      "Best : [9, 1, 8, 13, 11, 2, 10, 4, 0, 5, 12, 6, 3, 14, 7]  with fitness: 1266.04\n",
      "Best : [9, 1, 8, 13, 11, 2, 10, 4, 0, 5, 12, 6, 3, 14, 7]  with fitness: 1266.04\n",
      "Best : [9, 1, 8, 13, 11, 2, 10, 4, 0, 5, 12, 6, 3, 14, 7]  with fitness: 1266.04\n",
      "Best : [9, 1, 8, 13, 11, 2, 10, 4, 0, 5, 12, 6, 3, 14, 7]  with fitness: 1266.04\n",
      "Best : [9, 1, 8, 13, 11, 2, 10, 4, 0, 5, 12, 6, 3, 14, 7]  with fitness: 1266.04\n",
      "Best : [9, 1, 8, 13, 11, 2, 10, 4, 0, 5, 12, 6, 3, 14, 7]  with fitness: 1266.04\n",
      "Best : [9, 1, 8, 13, 11, 2, 10, 4, 0, 5, 12, 6, 3, 14, 7]  with fitness: 1266.04\n",
      "Best : [9, 1, 8, 13, 11, 2, 10, 4, 0, 5, 12, 6, 3, 14, 7]  with fitness: 1266.04\n",
      "Best : [9, 1, 8, 13, 11, 2, 10, 4, 0, 5, 12, 6, 3, 14, 7]  with fitness: 1266.04\n",
      "Best : [9, 1, 8, 13, 11, 2, 10, 4, 0, 5, 12, 6, 3, 14, 7]  with fitness: 1266.04\n",
      "Best : [9, 1, 8, 13, 11, 2, 10, 4, 0, 5, 12, 6, 3, 14, 7]  with fitness: 1266.04\n",
      "Best : [9, 1, 8, 13, 11, 2, 10, 4, 0, 5, 12, 6, 3, 14, 7]  with fitness: 1266.04\n",
      "Best : [9, 1, 8, 13, 11, 2, 10, 4, 0, 5, 12, 6, 3, 14, 7]  with fitness: 1266.04\n",
      "Best : [9, 1, 8, 13, 11, 2, 10, 4, 0, 5, 12, 6, 3, 14, 7]  with fitness: 1266.04\n",
      "Best : [9, 1, 8, 13, 11, 2, 10, 4, 0, 5, 12, 6, 3, 14, 7]  with fitness: 1266.04\n",
      "Best : [9, 1, 8, 13, 11, 2, 10, 4, 0, 5, 12, 6, 3, 14, 7]  with fitness: 1266.04\n",
      "Best : [9, 1, 8, 13, 11, 2, 10, 4, 0, 5, 12, 6, 3, 14, 7]  with fitness: 1266.04\n",
      "Best : [9, 1, 8, 13, 11, 2, 10, 4, 0, 5, 12, 6, 3, 14, 7]  with fitness: 1266.04\n",
      "Best : [9, 1, 8, 13, 11, 2, 10, 4, 0, 5, 12, 6, 3, 14, 7]  with fitness: 1266.04\n",
      "Best : [9, 1, 8, 13, 11, 2, 10, 4, 0, 5, 12, 6, 3, 14, 7]  with fitness: 1266.04\n",
      "Best : [9, 1, 8, 13, 11, 2, 10, 4, 0, 5, 12, 6, 3, 14, 7]  with fitness: 1266.04\n",
      "Best : [9, 1, 8, 13, 11, 2, 10, 4, 0, 5, 12, 6, 3, 14, 7]  with fitness: 1266.04\n",
      "Best : [9, 1, 8, 13, 11, 2, 10, 4, 0, 5, 12, 6, 3, 14, 7]  with fitness: 1266.04\n",
      "Best : [9, 1, 8, 13, 11, 2, 10, 4, 0, 5, 12, 6, 3, 14, 7]  with fitness: 1266.04\n",
      "Best : [9, 1, 8, 13, 11, 2, 10, 4, 0, 5, 12, 6, 3, 14, 7]  with fitness: 1266.04\n",
      "Best : [9, 1, 8, 13, 11, 2, 10, 4, 0, 5, 12, 6, 3, 14, 7]  with fitness: 1266.04\n",
      "Best : [9, 1, 8, 13, 11, 2, 10, 4, 0, 5, 12, 6, 3, 14, 7]  with fitness: 1266.04\n",
      "Best : [9, 1, 8, 13, 11, 2, 10, 4, 0, 5, 12, 6, 3, 14, 7]  with fitness: 1266.04\n",
      "Best : [9, 1, 8, 13, 11, 2, 10, 4, 0, 5, 12, 6, 3, 14, 7]  with fitness: 1266.04\n",
      "Best : [9, 1, 8, 13, 11, 2, 10, 4, 0, 5, 12, 6, 3, 14, 7]  with fitness: 1266.04\n",
      "Best : [9, 1, 8, 13, 11, 2, 10, 4, 0, 5, 12, 6, 3, 14, 7]  with fitness: 1266.04\n",
      "Best : [9, 1, 8, 13, 11, 2, 10, 4, 0, 5, 12, 6, 3, 14, 7]  with fitness: 1266.04\n",
      "Best : [9, 1, 8, 13, 11, 2, 10, 4, 0, 5, 12, 6, 3, 14, 7]  with fitness: 1266.04\n",
      "Best : [9, 1, 8, 13, 11, 2, 10, 4, 0, 5, 12, 6, 3, 14, 7]  with fitness: 1266.04\n",
      "Best : [9, 1, 8, 13, 11, 2, 10, 4, 0, 5, 12, 6, 3, 14, 7]  with fitness: 1266.04\n",
      "Best : [9, 1, 8, 13, 11, 2, 10, 4, 0, 5, 12, 6, 3, 14, 7]  with fitness: 1266.04\n",
      "Best : [9, 1, 8, 13, 11, 2, 10, 4, 0, 5, 12, 6, 3, 14, 7]  with fitness: 1266.04\n",
      "Best : [9, 1, 8, 13, 11, 2, 10, 4, 0, 5, 12, 6, 3, 14, 7]  with fitness: 1266.04\n"
     ]
    }
   ],
   "source": [
    "pop = populate(population_size)\n",
    "\n",
    "the_bests = []  #Create a list of the best genes of poblation in this generation\n",
    "\n",
    "for _ in range(generations):\n",
    "    new_pop = []  #Create a list of the new poblation\n",
    "    pop_fit = fitness_population(pop)\n",
    "    fitness_index = np.argsort(pop_fit)\n",
    "\n",
    "    best1 = pop[fitness_index[0]]\n",
    "    best2 = pop[fitness_index[1]]\n",
    "\n",
    "    the_bests.append(fitness(best1))\n",
    "\n",
    "    print(\"Best :\",best1,\" with fitness:\", fitness(best1))\n",
    "    \n",
    "    new_pop.append(best1)\n",
    "    new_pop.append(best2)\n",
    "\n",
    "    for c in range(int((population_size-2)/2)):\n",
    "        parents_index = np.random.choice(fitness_index[:10], size=2, replace=False)\n",
    "        father = pop[parents_index[0]]\n",
    "        mother = pop[parents_index[1]]\n",
    "        son1, son2 = crossover(father, mother)\n",
    "\n",
    "        son1 = mutate(son1)\n",
    "        son2 = mutate(son2)\n",
    "\n",
    "        new_pop.append(son1)\n",
    "        new_pop.append(son2)\n",
    "\n",
    "    pop = new_pop\n"
   ]
  },
  {
   "cell_type": "markdown",
   "metadata": {},
   "source": [
    "### **VISUALIZATION**"
   ]
  },
  {
   "cell_type": "code",
   "execution_count": 9,
   "metadata": {},
   "outputs": [
    {
     "data": {
      "text/plain": [
       "['Solarize_Light2',\n",
       " '_classic_test_patch',\n",
       " '_mpl-gallery',\n",
       " '_mpl-gallery-nogrid',\n",
       " 'bmh',\n",
       " 'classic',\n",
       " 'dark_background',\n",
       " 'fast',\n",
       " 'fivethirtyeight',\n",
       " 'ggplot',\n",
       " 'grayscale',\n",
       " 'seaborn',\n",
       " 'seaborn-bright',\n",
       " 'seaborn-colorblind',\n",
       " 'seaborn-dark',\n",
       " 'seaborn-dark-palette',\n",
       " 'seaborn-darkgrid',\n",
       " 'seaborn-deep',\n",
       " 'seaborn-muted',\n",
       " 'seaborn-notebook',\n",
       " 'seaborn-paper',\n",
       " 'seaborn-pastel',\n",
       " 'seaborn-poster',\n",
       " 'seaborn-talk',\n",
       " 'seaborn-ticks',\n",
       " 'seaborn-white',\n",
       " 'seaborn-whitegrid',\n",
       " 'tableau-colorblind10']"
      ]
     },
     "execution_count": 9,
     "metadata": {},
     "output_type": "execute_result"
    }
   ],
   "source": [
    "#Style of graphic\n",
    "plt.style.available"
   ]
  },
  {
   "cell_type": "code",
   "execution_count": 16,
   "metadata": {},
   "outputs": [
    {
     "data": {
      "image/png": "[encoded data removed]",
      "text/plain": [
       "<Figure size 432x288 with 1 Axes>"
      ]
     },
     "metadata": {
      "needs_background": "light"
     },
     "output_type": "display_data"
    }
   ],
   "source": [
    "#Create a graphic\n",
    "from matplotlib.pyplot import ylabel\n",
    "\n",
    "\n",
    "plt.plot(the_bests, color = 'Maroon', linewidth = 3)\n",
    "plt.suptitle('Fitness Evolution after Generations', fontfamily = 'arial',\n",
    "                    fontweight = 'bold', fontsize = 16 )\n",
    "plt.xlabel('Generations', fontname = 'arial' ,fontsize = 10, fontweight = 'light')\n",
    "plt.ylabel('Fitness', fontname = 'arial' ,fontsize = 10, fontweight = 'light')\n",
    "plt.grid(alpha = 0.2, linestyle = '-.', linewidth = 1.5)\n",
    "plt.style.use('seaborn-pastel') \n",
    "plt.savefig(\"FitEvolution.jpg\") #save the graphic\n",
    "plt.show()\n"
   ]
  }
 ],
 "metadata": {
  "kernelspec": {
   "display_name": "Python 3.10.4 64-bit",
   "language": "python",
   "name": "python3"
  },
  "language_info": {
   "codemirror_mode": {
    "name": "ipython",
    "version": 3
   },
   "file_extension": ".py",
   "mimetype": "text/x-python",
   "name": "python",
   "nbconvert_exporter": "python",
   "pygments_lexer": "ipython3",
   "version": "3.10.4"
  },
  "orig_nbformat": 4,
  "vscode": {
   "interpreter": {
    "hash": "434f2bcca716b3712093bbeaf4b043651dd7dfcf409992b3771072bf00fd41a0"
   }
  }
 },
 "nbformat": 4,
 "nbformat_minor": 2
}
